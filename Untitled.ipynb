{
 "cells": [
  {
   "cell_type": "code",
   "execution_count": 1,
   "id": "f89b28af",
   "metadata": {},
   "outputs": [],
   "source": [
    "# Binary Search Algorithm\n",
    "\n",
    "def binarysearch(arr,x):\n",
    "    low = 0\n",
    "    high = len(arr)-1\n",
    "    \n",
    "    while low<high:\n",
    "        mid = low+(low+high)//2\n",
    "        if arr[mid]==x:\n",
    "            return mid\n",
    "        elif arr[mid]>x:\n",
    "            high = high-1\n",
    "        else:\n",
    "            low = low+1\n",
    "    return -1"
   ]
  },
  {
   "cell_type": "code",
   "execution_count": 2,
   "id": "2d2d123c",
   "metadata": {},
   "outputs": [
    {
     "name": "stdout",
     "output_type": "stream",
     "text": [
      "3\n"
     ]
    }
   ],
   "source": [
    "arr = [10,27,34,56,87,90]\n",
    "x = 56\n",
    "print(binarysearch(arr,x))"
   ]
  },
  {
   "cell_type": "code",
   "execution_count": 3,
   "id": "da52b27d",
   "metadata": {},
   "outputs": [],
   "source": [
    "# First occurance in the sorted array:\n",
    "\n",
    "def firstocc(arr,x):\n",
    "    \n",
    "    for i in range(len(arr)):\n",
    "        if arr[i]==x:\n",
    "            return i\n",
    "    return -1"
   ]
  },
  {
   "cell_type": "code",
   "execution_count": 4,
   "id": "e1f26d88",
   "metadata": {},
   "outputs": [
    {
     "name": "stdout",
     "output_type": "stream",
     "text": [
      "2\n"
     ]
    }
   ],
   "source": [
    "arr= [1, 3, 5, 5, 5, 5, 67, 123, 125] \n",
    "x = 5\n",
    "print(firstocc(arr,x))"
   ]
  },
  {
   "cell_type": "code",
   "execution_count": 5,
   "id": "083ce173",
   "metadata": {},
   "outputs": [],
   "source": [
    "## Last occurance in the sorted array\n",
    "\n",
    "def lastocc(arr,x):\n",
    "    for i in reversed(range(len(arr))):\n",
    "        if arr[i] == x:\n",
    "            return i\n",
    "    return -1"
   ]
  },
  {
   "cell_type": "code",
   "execution_count": 6,
   "id": "657827ea",
   "metadata": {},
   "outputs": [
    {
     "name": "stdout",
     "output_type": "stream",
     "text": [
      "5\n"
     ]
    }
   ],
   "source": [
    "arr= [1, 3, 5, 5, 5, 5, 67, 123, 125] \n",
    "x = 5\n",
    "print(lastocc(arr,x))"
   ]
  },
  {
   "cell_type": "code",
   "execution_count": 7,
   "id": "e80113ca",
   "metadata": {},
   "outputs": [],
   "source": [
    "# Count occurance in sorted array\n",
    "\n",
    "def countocc(arr,x):\n",
    "    first = firstocc(arr,x)\n",
    "    if first == -1:\n",
    "        return 0\n",
    "    else:\n",
    "        return lastocc(arr,x)-first+1"
   ]
  },
  {
   "cell_type": "code",
   "execution_count": 8,
   "id": "46db75a1",
   "metadata": {},
   "outputs": [
    {
     "name": "stdout",
     "output_type": "stream",
     "text": [
      "4\n"
     ]
    }
   ],
   "source": [
    "arr= [1, 3, 5, 5, 5, 5, 67, 123, 125] \n",
    "x = 5\n",
    "print(countocc(arr,x))"
   ]
  },
  {
   "cell_type": "code",
   "execution_count": 9,
   "id": "58707868",
   "metadata": {},
   "outputs": [],
   "source": [
    "# Find the square root number\n",
    "\n",
    "def sqroot(x):\n",
    "    low = 1\n",
    "    high = x\n",
    "    ans = -1\n",
    "    while low<=high:\n",
    "        mid = low+(low+high)//2\n",
    "        msq = mid*mid\n",
    "        if msq == x:\n",
    "            return mid\n",
    "        elif msq > x:\n",
    "            high = mid-1\n",
    "        else:\n",
    "            low = mid+1\n",
    "            ans = mid\n",
    "    return ans"
   ]
  },
  {
   "cell_type": "code",
   "execution_count": 10,
   "id": "bab16251",
   "metadata": {},
   "outputs": [
    {
     "name": "stdout",
     "output_type": "stream",
     "text": [
      "3\n"
     ]
    }
   ],
   "source": [
    "print(sqroot(9))"
   ]
  },
  {
   "cell_type": "code",
   "execution_count": 12,
   "id": "e0b5a9d6",
   "metadata": {},
   "outputs": [],
   "source": [
    "# Finding the peakelement in the given array\n",
    "\n",
    "def peakElement(self,arr, n):\n",
    "        # Code here\n",
    "        l = 0\n",
    "        r = n-1\n",
    "     \n",
    "        while(l <= r):\n",
    "     \n",
    "           \n",
    "            mid = (l + r) >> 1\n",
    "     \n",
    "           \n",
    "            if((mid == 0 or arr[mid - 1] <= arr[mid]) and (mid == n - 1 or arr[mid + 1] <= arr[mid])):\n",
    "                break\n",
    "     \n",
    "            \n",
    "            if(mid > 0 and arr[mid - 1] > arr[mid]):\n",
    "                r = mid - 1\n",
    "     \n",
    "           \n",
    "            else:\n",
    "                l = mid + 1\n",
    "     \n",
    "        return mid\n"
   ]
  },
  {
   "cell_type": "code",
   "execution_count": 13,
   "id": "31753211",
   "metadata": {},
   "outputs": [],
   "source": [
    "def peakElement(self,arr, n):\n",
    "\n",
    "    # Code here\n",
    "    left,right = 0,n-1\n",
    "    while left < right:\n",
    "        mid = (left + right) // 2\n",
    "        if arr[mid] > arr[mid + 1]:\n",
    "            right = mid\n",
    "        else:\n",
    "            left  = mid + 1\n",
    "    return left"
   ]
  },
  {
   "cell_type": "code",
   "execution_count": null,
   "id": "4d4b900b",
   "metadata": {},
   "outputs": [],
   "source": []
  }
 ],
 "metadata": {
  "kernelspec": {
   "display_name": "Python 3 (ipykernel)",
   "language": "python",
   "name": "python3"
  },
  "language_info": {
   "codemirror_mode": {
    "name": "ipython",
    "version": 3
   },
   "file_extension": ".py",
   "mimetype": "text/x-python",
   "name": "python",
   "nbconvert_exporter": "python",
   "pygments_lexer": "ipython3",
   "version": "3.9.13"
  }
 },
 "nbformat": 4,
 "nbformat_minor": 5
}
