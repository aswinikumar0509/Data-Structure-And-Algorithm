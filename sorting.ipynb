{
 "cells": [
  {
   "cell_type": "code",
   "execution_count": 1,
   "id": "2bc59974",
   "metadata": {},
   "outputs": [],
   "source": [
    "## Sorting"
   ]
  },
  {
   "cell_type": "code",
   "execution_count": 2,
   "id": "2d5b4539",
   "metadata": {},
   "outputs": [
    {
     "name": "stdout",
     "output_type": "stream",
     "text": [
      "[1, 4, 5, 10, 23]\n"
     ]
    }
   ],
   "source": [
    "l1= [5,10,4,23,1]\n",
    "l1.sort()\n",
    "print(l1)"
   ]
  },
  {
   "cell_type": "code",
   "execution_count": 3,
   "id": "e09961b9",
   "metadata": {},
   "outputs": [
    {
     "name": "stdout",
     "output_type": "stream",
     "text": [
      "[10, 5, 3, 1]\n"
     ]
    }
   ],
   "source": [
    "l2 = [1,5,3,10]\n",
    "l2.sort(reverse = True)\n",
    "print(l2)"
   ]
  },
  {
   "cell_type": "code",
   "execution_count": 4,
   "id": "586a7255",
   "metadata": {},
   "outputs": [
    {
     "name": "stdout",
     "output_type": "stream",
     "text": [
      "['cources', 'gfg', 'ide']\n"
     ]
    }
   ],
   "source": [
    "l3 = [\"gfg\",\"ide\",\"cources\"]\n",
    "l3.sort()\n",
    "print(l3)"
   ]
  },
  {
   "cell_type": "code",
   "execution_count": 5,
   "id": "4e49c49a",
   "metadata": {},
   "outputs": [
    {
     "name": "stdout",
     "output_type": "stream",
     "text": [
      "['bng', 'gddf', 'judbv']\n"
     ]
    }
   ],
   "source": [
    "def myfun(x):\n",
    "    return len(x)\n",
    "x = [\"gddf\",\"bng\",\"judbv\"]\n",
    "x.sort(key = myfun)\n",
    "print(x)"
   ]
  },
  {
   "cell_type": "code",
   "execution_count": 6,
   "id": "02c4c080",
   "metadata": {},
   "outputs": [
    {
     "name": "stdout",
     "output_type": "stream",
     "text": [
      "['judbv', 'gddf', 'bng']\n"
     ]
    }
   ],
   "source": [
    "x.sort(key = myfun , reverse = True)\n",
    "print(x)"
   ]
  },
  {
   "cell_type": "code",
   "execution_count": 7,
   "id": "cefbf7c1",
   "metadata": {},
   "outputs": [
    {
     "name": "stdout",
     "output_type": "stream",
     "text": [
      "1 8\n",
      "1 15\n",
      "10 5\n"
     ]
    }
   ],
   "source": [
    "class point:\n",
    "    \n",
    "    def __init__(self,x,y):\n",
    "        self.x = x\n",
    "        self.y = y\n",
    "        \n",
    "        \n",
    "def myfun(p):\n",
    "    return p.x , p.y\n",
    "\n",
    "l = [point(1,15),point(10,5),point(1,8)]\n",
    "l.sort(key = myfun)\n",
    "\n",
    "for i in l:\n",
    "    print(i.x,i.y)  "
   ]
  },
  {
   "cell_type": "code",
   "execution_count": 8,
   "id": "36dcabec",
   "metadata": {},
   "outputs": [
    {
     "name": "stdout",
     "output_type": "stream",
     "text": [
      "1 15\n",
      "1 8\n",
      "10 5\n"
     ]
    }
   ],
   "source": [
    "class point:\n",
    "    \n",
    "    def __init__(self,x,y):\n",
    "        self.x = x\n",
    "        self.y = y\n",
    "        \n",
    "    def __lt__(self,other):\n",
    "        return self.x < other.x\n",
    "    \n",
    "l = [point(1,15),point(10,5),point(1,8)]\n",
    "l.sort()\n",
    "\n",
    "for i in l:\n",
    "    print(i.x , i.y)"
   ]
  },
  {
   "cell_type": "code",
   "execution_count": 9,
   "id": "4cf132aa",
   "metadata": {},
   "outputs": [
    {
     "name": "stdout",
     "output_type": "stream",
     "text": [
      "1 8\n",
      "1 15\n",
      "10 5\n"
     ]
    }
   ],
   "source": [
    "class point:\n",
    "    \n",
    "    def __init__(self,x,y):\n",
    "        self.x = x\n",
    "        self.y = y\n",
    "        \n",
    "    def __lt__(self,other):\n",
    "        \n",
    "        if self.x == other.x:\n",
    "            return self.y < other.y\n",
    "        else:\n",
    "            return self.x < other.x\n",
    "        \n",
    "l = [point(1,15),point(10,5),point(1,8)]\n",
    "l.sort()\n",
    "\n",
    "for i in l:\n",
    "    print(i.x , i.y)"
   ]
  },
  {
   "cell_type": "code",
   "execution_count": 11,
   "id": "7fabce7e",
   "metadata": {},
   "outputs": [
    {
     "name": "stdout",
     "output_type": "stream",
     "text": [
      "[10, 20, 14]\n",
      "[10, 14, 20]\n",
      "[-15, 10, -2, 1]\n"
     ]
    }
   ],
   "source": [
    "l = [10,20,14]\n",
    "ls = sorted(l)\n",
    "print(l)\n",
    "print(ls)\n",
    "\n",
    "l = [10,-15,-2,1]\n",
    "ls = sorted(l,key=abs,reverse = True)\n",
    "print(ls)"
   ]
  },
  {
   "cell_type": "code",
   "execution_count": 16,
   "id": "9a0ba244",
   "metadata": {},
   "outputs": [
    {
     "name": "stdout",
     "output_type": "stream",
     "text": [
      "[1, 5, 10, 12]\n",
      "['courses', 'gfg', 'python']\n",
      "['f', 'g', 'g']\n",
      "[5, 10, 15]\n",
      "[(1, 8), (2, 3), (10, 15)]\n"
     ]
    }
   ],
   "source": [
    "t = (10,12,5,1)\n",
    "print(sorted(t))\n",
    "\n",
    "s = {'gfg','courses','python'}\n",
    "print(sorted(s))\n",
    "\n",
    "st = 'gfg'\n",
    "print(sorted(st))\n",
    "\n",
    "d = {10:'gfg',15:'ide',5:'courses'}\n",
    "print(sorted(d))\n",
    "\n",
    "l = [(10,15),(1,8),(2,3)]\n",
    "print(sorted(l))"
   ]
  },
  {
   "cell_type": "code",
   "execution_count": 18,
   "id": "6b7bdda0",
   "metadata": {},
   "outputs": [
    {
     "name": "stdout",
     "output_type": "stream",
     "text": [
      "{1, 2, 3, 4, 5, 6}\n"
     ]
    }
   ],
   "source": [
    "x = {1,2,3,4,5}\n",
    "x.add(5)\n",
    "x.add(6)\n",
    "print(x)"
   ]
  },
  {
   "cell_type": "code",
   "execution_count": 25,
   "id": "17b29a4e",
   "metadata": {},
   "outputs": [
    {
     "name": "stdout",
     "output_type": "stream",
     "text": [
      "[1, 5, 10, 12]\n",
      "['courses', 'gfg', 'python']\n",
      "['f', 'g', 'g']\n",
      "[5, 10, 15]\n",
      "[(1, 8), (2, 3), (10, 15)]\n"
     ]
    }
   ],
   "source": [
    "l = t = (10,12,5,1)\n",
    "print(sorted(t))\n",
    "\n",
    "s = {'gfg','courses','python'}\n",
    "print(sorted(s))\n",
    "\n",
    "st = 'gfg'\n",
    "print(sorted(st))\n",
    "\n",
    "d = {10:'gfg',15:'ide',5:'courses'}\n",
    "print(sorted(d))\n",
    "\n",
    "l = [(10,15),(1,8),(2,3)]\n",
    "print(sorted(l))"
   ]
  },
  {
   "cell_type": "code",
   "execution_count": 20,
   "id": "058f1812",
   "metadata": {},
   "outputs": [
    {
     "name": "stdout",
     "output_type": "stream",
     "text": [
      "[1, 2, 3, 1, 2, 3, 1, 2, 3]\n"
     ]
    }
   ],
   "source": [
    "l=[1,2,3]*3\n",
    "print(l)"
   ]
  },
  {
   "cell_type": "code",
   "execution_count": 21,
   "id": "acaf8222",
   "metadata": {},
   "outputs": [
    {
     "name": "stdout",
     "output_type": "stream",
     "text": [
      "the number is 3\n"
     ]
    }
   ],
   "source": [
    "number = 3\n",
    "print(f\"the number is {number}\")"
   ]
  },
  {
   "cell_type": "code",
   "execution_count": 22,
   "id": "2529b639",
   "metadata": {},
   "outputs": [
    {
     "name": "stdout",
     "output_type": "stream",
     "text": [
      "[3 4]\n"
     ]
    }
   ],
   "source": [
    "import numpy as np\n",
    "\n",
    "table = np.array([[1,3],[2,4]])\n",
    "print(table.max(axis = 1))"
   ]
  },
  {
   "cell_type": "code",
   "execution_count": 23,
   "id": "7d18caca",
   "metadata": {},
   "outputs": [
    {
     "name": "stdout",
     "output_type": "stream",
     "text": [
      "[(1, 2), (2, 3), (3, 4), (4, 5)]\n"
     ]
    }
   ],
   "source": [
    "l = [(x,x+1) for x in range(1,5)]\n",
    "print(l)"
   ]
  },
  {
   "cell_type": "code",
   "execution_count": 26,
   "id": "035fe4d3",
   "metadata": {},
   "outputs": [],
   "source": [
    "## bubble sort\n",
    "\n",
    "def bubblesort(l):\n",
    "    \n",
    "    n = len(l)\n",
    "    for i in range(n-1):\n",
    "        for j in range(n-i-1):\n",
    "            if l[j] > l[j+1]:\n",
    "                l[j],l[j+1] = l[j+1],l[j]\n"
   ]
  },
  {
   "cell_type": "code",
   "execution_count": 28,
   "id": "e6bba73a",
   "metadata": {},
   "outputs": [
    {
     "name": "stdout",
     "output_type": "stream",
     "text": [
      "[1, 12, 20, 21, 50]\n"
     ]
    }
   ],
   "source": [
    "arr = [20,50,1,21,12]\n",
    "bubblesort(arr)\n",
    "print(arr)"
   ]
  },
  {
   "cell_type": "code",
   "execution_count": 33,
   "id": "ca2dcd97",
   "metadata": {},
   "outputs": [],
   "source": [
    "## Selection sort\n",
    "\n",
    "def selectSort(l):\n",
    "    n = len(l)\n",
    "\n",
    "    for i in range(n - 1):\n",
    "        min_ind = i\n",
    "        for j in range(i + 1, n):\n",
    "\n",
    "            if l[j] < l[min_ind]:\n",
    "                min_ind = j\n",
    "\n",
    "        l[min_ind], l[i] = l[i], l[min_ind]"
   ]
  },
  {
   "cell_type": "code",
   "execution_count": 36,
   "id": "dd6376df",
   "metadata": {},
   "outputs": [
    {
     "name": "stdout",
     "output_type": "stream",
     "text": [
      "[2, 5, 8, 10, 18, 20]\n"
     ]
    }
   ],
   "source": [
    "l = [10, 5, 8, 20, 2, 18]\n",
    "\n",
    "selectSort(l)\n",
    "\n",
    "print(l)"
   ]
  },
  {
   "cell_type": "code",
   "execution_count": 37,
   "id": "129efe84",
   "metadata": {},
   "outputs": [],
   "source": [
    "def insertionSort(l):\n",
    "\n",
    "    for i in range(1,len(l)):\n",
    "        x = l[i]\n",
    "        j = i-1\n",
    "\n",
    "        while j>=0 and x<l[j]:\n",
    "            l[j+1] = l[j]\n",
    "            j = j-1\n",
    "\n",
    "        l[j+1] = x"
   ]
  },
  {
   "cell_type": "code",
   "execution_count": 38,
   "id": "03782b15",
   "metadata": {},
   "outputs": [
    {
     "name": "stdout",
     "output_type": "stream",
     "text": [
      "5 10 20 30 40 60\n"
     ]
    }
   ],
   "source": [
    "l = [20, 5, 40, 60, 10, 30]\n",
    "\n",
    "insertionSort(l)\n",
    "print(*l)"
   ]
  },
  {
   "cell_type": "code",
   "execution_count": null,
   "id": "4f9c40b0",
   "metadata": {},
   "outputs": [],
   "source": []
  }
 ],
 "metadata": {
  "kernelspec": {
   "display_name": "Python 3 (ipykernel)",
   "language": "python",
   "name": "python3"
  },
  "language_info": {
   "codemirror_mode": {
    "name": "ipython",
    "version": 3
   },
   "file_extension": ".py",
   "mimetype": "text/x-python",
   "name": "python",
   "nbconvert_exporter": "python",
   "pygments_lexer": "ipython3",
   "version": "3.9.13"
  }
 },
 "nbformat": 4,
 "nbformat_minor": 5
}
